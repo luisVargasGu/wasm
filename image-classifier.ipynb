{
 "cells": [
  {
   "cell_type": "code",
   "execution_count": 1,
   "id": "f39c4d67-84ea-4b11-acf2-4275b131988c",
   "metadata": {},
   "outputs": [],
   "source": [
    "import os\n",
    "import pickle\n",
    "\n",
    "from skimage.io import imread\n",
    "from skimage.transform import resize\n",
    "import numpy as np\n",
    "from cuml.model_selection import train_test_split\n",
    "from cuml.svm import SVC\n",
    "from sklearn.metrics import accuracy_score\n"
   ]
  },
  {
   "cell_type": "code",
   "execution_count": 7,
   "id": "0fb751ac-0cba-4258-accd-a5a0629ff85d",
   "metadata": {},
   "outputs": [],
   "source": [
    "# prepare data\n",
    "input_dir = 'brain_tumor_mris'\n",
    "categories = ['glioma', 'meningioma', 'notumor', 'pituitary']\n",
    "\n",
    "data = []\n",
    "labels = []\n",
    "\n",
    "for category_idx, category in enumerate(categories):\n",
    "    for file in os.listdir(os.path.join(input_dir, category)):\n",
    "        img_path = os.path.join(input_dir, category, file)\n",
    "        img = imread(img_path, as_gray=True)\n",
    "        img = resize(img, (512, 512), anti_aliasing=True)\n",
    "        data.append(img.flatten())\n",
    "        labels.append(category_idx)\n",
    "\n",
    "data = np.asarray(data)\n",
    "labels = np.asarray(labels)"
   ]
  },
  {
   "cell_type": "code",
   "execution_count": null,
   "id": "18c6aab0-7859-4be4-8b50-308711ca007f",
   "metadata": {},
   "outputs": [
    {
     "name": "stderr",
     "output_type": "stream",
     "text": [
      "/home/luis/miniconda3/envs/rapids-24.06/lib/python3.11/site-packages/cupy/_creation/from_data.py:88: PerformanceWarning: Using synchronous transfer as pinned memory (9797894144 bytes) could not be allocated. This generally occurs because of insufficient host memory. The original error was: cudaErrorMemoryAllocation: out of memory\n",
      "  return _core.array(a, dtype, False, order, blocking=blocking)\n",
      "/home/luis/miniconda3/envs/rapids-24.06/lib/python3.11/site-packages/cupy/_creation/from_data.py:88: PerformanceWarning: Using synchronous transfer as pinned memory (3917479936 bytes) could not be allocated. This generally occurs because of insufficient host memory. The original error was: cudaErrorMemoryAllocation: out of memory\n",
      "  return _core.array(a, dtype, False, order, blocking=blocking)\n"
     ]
    }
   ],
   "source": [
    "# train / test split\n",
    "x_train, x_test, y_train, y_test = train_test_split(data, labels, test_size=0.2, shuffle=True, stratify=labels)\n",
    "\n",
    "# train classifier\n",
    "classifier = SVC()\n",
    "\n",
    "# Here we would use GridSearchCV from cuml when it becomes available\n",
    "# For now, let's assume we manually set hyperparameters\n",
    "classifier.set_params(C=10, gamma=0.001)\n",
    "\n",
    "classifier.fit(x_train, y_train)\n",
    "\n",
    "# test performance\n",
    "y_prediction = classifier.predict(x_test)\n",
    "\n",
    "score = accuracy_score(y_prediction, y_test)\n",
    "\n",
    "print('{}% of samples were correctly classified'.format(str(score * 100)))\n",
    "\n",
    "pickle.dump(classifier, open('./mri-model-v3(dimension-increase-512x512).p', 'wb'))\n"
   ]
  },
  {
   "cell_type": "code",
   "execution_count": null,
   "id": "fa2642d5-edfa-4b5f-95db-c284971382de",
   "metadata": {},
   "outputs": [],
   "source": []
  },
  {
   "cell_type": "code",
   "execution_count": null,
   "id": "5ee1e544-74b3-4f1c-926c-c1fcca91e1d4",
   "metadata": {},
   "outputs": [],
   "source": []
  }
 ],
 "metadata": {
  "kernelspec": {
   "display_name": "Python 3 (ipykernel)",
   "language": "python",
   "name": "python3"
  },
  "language_info": {
   "codemirror_mode": {
    "name": "ipython",
    "version": 3
   },
   "file_extension": ".py",
   "mimetype": "text/x-python",
   "name": "python",
   "nbconvert_exporter": "python",
   "pygments_lexer": "ipython3",
   "version": "3.11.9"
  }
 },
 "nbformat": 4,
 "nbformat_minor": 5
}
